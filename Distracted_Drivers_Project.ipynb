{
  "nbformat": 4,
  "nbformat_minor": 0,
  "metadata": {
    "colab": {
      "provenance": [],
      "collapsed_sections": [
        "uofnvxpz-qdI"
      ]
    },
    "kernelspec": {
      "name": "python3",
      "display_name": "Python 3"
    },
    "accelerator": "GPU"
  },
  "cells": [
    {
      "cell_type": "code",
      "source": [
        "!pip install tensorflow==2.12.0\n",
        "import tensorflow as tf\n",
        "print(tf.__version__)"
      ],
      "metadata": {
        "colab": {
          "base_uri": "https://localhost:8080/"
        },
        "id": "HTmkIkRwkRGZ",
        "outputId": "73db015b-5226-4ed6-94fd-6c5932d2ff4e"
      },
      "execution_count": 1,
      "outputs": [
        {
          "output_type": "stream",
          "name": "stdout",
          "text": [
            "Collecting tensorflow==2.12.0\n",
            "  Downloading tensorflow-2.12.0-cp310-cp310-manylinux_2_17_x86_64.manylinux2014_x86_64.whl (585.9 MB)\n",
            "\u001b[2K     \u001b[90m━━━━━━━━━━━━━━━━━━━━━━━━━━━━━━━━━━━━━━━━\u001b[0m \u001b[32m585.9/585.9 MB\u001b[0m \u001b[31m1.8 MB/s\u001b[0m eta \u001b[36m0:00:00\u001b[0m\n",
            "\u001b[?25hRequirement already satisfied: absl-py>=1.0.0 in /usr/local/lib/python3.10/dist-packages (from tensorflow==2.12.0) (1.4.0)\n",
            "Requirement already satisfied: astunparse>=1.6.0 in /usr/local/lib/python3.10/dist-packages (from tensorflow==2.12.0) (1.6.3)\n",
            "Requirement already satisfied: flatbuffers>=2.0 in /usr/local/lib/python3.10/dist-packages (from tensorflow==2.12.0) (23.5.26)\n",
            "Collecting gast<=0.4.0,>=0.2.1 (from tensorflow==2.12.0)\n",
            "  Downloading gast-0.4.0-py3-none-any.whl (9.8 kB)\n",
            "Requirement already satisfied: google-pasta>=0.1.1 in /usr/local/lib/python3.10/dist-packages (from tensorflow==2.12.0) (0.2.0)\n",
            "Requirement already satisfied: grpcio<2.0,>=1.24.3 in /usr/local/lib/python3.10/dist-packages (from tensorflow==2.12.0) (1.59.0)\n",
            "Requirement already satisfied: h5py>=2.9.0 in /usr/local/lib/python3.10/dist-packages (from tensorflow==2.12.0) (3.9.0)\n",
            "Requirement already satisfied: jax>=0.3.15 in /usr/local/lib/python3.10/dist-packages (from tensorflow==2.12.0) (0.4.16)\n",
            "Collecting keras<2.13,>=2.12.0 (from tensorflow==2.12.0)\n",
            "  Downloading keras-2.12.0-py2.py3-none-any.whl (1.7 MB)\n",
            "\u001b[2K     \u001b[90m━━━━━━━━━━━━━━━━━━━━━━━━━━━━━━━━━━━━━━━━\u001b[0m \u001b[32m1.7/1.7 MB\u001b[0m \u001b[31m31.8 MB/s\u001b[0m eta \u001b[36m0:00:00\u001b[0m\n",
            "\u001b[?25hRequirement already satisfied: libclang>=13.0.0 in /usr/local/lib/python3.10/dist-packages (from tensorflow==2.12.0) (16.0.6)\n",
            "Requirement already satisfied: numpy<1.24,>=1.22 in /usr/local/lib/python3.10/dist-packages (from tensorflow==2.12.0) (1.23.5)\n",
            "Requirement already satisfied: opt-einsum>=2.3.2 in /usr/local/lib/python3.10/dist-packages (from tensorflow==2.12.0) (3.3.0)\n",
            "Requirement already satisfied: packaging in /usr/local/lib/python3.10/dist-packages (from tensorflow==2.12.0) (23.2)\n",
            "Requirement already satisfied: protobuf!=4.21.0,!=4.21.1,!=4.21.2,!=4.21.3,!=4.21.4,!=4.21.5,<5.0.0dev,>=3.20.3 in /usr/local/lib/python3.10/dist-packages (from tensorflow==2.12.0) (3.20.3)\n",
            "Requirement already satisfied: setuptools in /usr/local/lib/python3.10/dist-packages (from tensorflow==2.12.0) (67.7.2)\n",
            "Requirement already satisfied: six>=1.12.0 in /usr/local/lib/python3.10/dist-packages (from tensorflow==2.12.0) (1.16.0)\n",
            "Collecting tensorboard<2.13,>=2.12 (from tensorflow==2.12.0)\n",
            "  Downloading tensorboard-2.12.3-py3-none-any.whl (5.6 MB)\n",
            "\u001b[2K     \u001b[90m━━━━━━━━━━━━━━━━━━━━━━━━━━━━━━━━━━━━━━━━\u001b[0m \u001b[32m5.6/5.6 MB\u001b[0m \u001b[31m35.6 MB/s\u001b[0m eta \u001b[36m0:00:00\u001b[0m\n",
            "\u001b[?25hCollecting tensorflow-estimator<2.13,>=2.12.0 (from tensorflow==2.12.0)\n",
            "  Downloading tensorflow_estimator-2.12.0-py2.py3-none-any.whl (440 kB)\n",
            "\u001b[2K     \u001b[90m━━━━━━━━━━━━━━━━━━━━━━━━━━━━━━━━━━━━━━━━\u001b[0m \u001b[32m440.7/440.7 kB\u001b[0m \u001b[31m27.3 MB/s\u001b[0m eta \u001b[36m0:00:00\u001b[0m\n",
            "\u001b[?25hRequirement already satisfied: termcolor>=1.1.0 in /usr/local/lib/python3.10/dist-packages (from tensorflow==2.12.0) (2.3.0)\n",
            "Requirement already satisfied: typing-extensions>=3.6.6 in /usr/local/lib/python3.10/dist-packages (from tensorflow==2.12.0) (4.5.0)\n",
            "Requirement already satisfied: wrapt<1.15,>=1.11.0 in /usr/local/lib/python3.10/dist-packages (from tensorflow==2.12.0) (1.14.1)\n",
            "Requirement already satisfied: tensorflow-io-gcs-filesystem>=0.23.1 in /usr/local/lib/python3.10/dist-packages (from tensorflow==2.12.0) (0.34.0)\n",
            "Requirement already satisfied: wheel<1.0,>=0.23.0 in /usr/local/lib/python3.10/dist-packages (from astunparse>=1.6.0->tensorflow==2.12.0) (0.41.2)\n",
            "Requirement already satisfied: ml-dtypes>=0.2.0 in /usr/local/lib/python3.10/dist-packages (from jax>=0.3.15->tensorflow==2.12.0) (0.2.0)\n",
            "Requirement already satisfied: scipy>=1.7 in /usr/local/lib/python3.10/dist-packages (from jax>=0.3.15->tensorflow==2.12.0) (1.11.3)\n",
            "Requirement already satisfied: google-auth<3,>=1.6.3 in /usr/local/lib/python3.10/dist-packages (from tensorboard<2.13,>=2.12->tensorflow==2.12.0) (2.17.3)\n",
            "Requirement already satisfied: google-auth-oauthlib<1.1,>=0.5 in /usr/local/lib/python3.10/dist-packages (from tensorboard<2.13,>=2.12->tensorflow==2.12.0) (1.0.0)\n",
            "Requirement already satisfied: markdown>=2.6.8 in /usr/local/lib/python3.10/dist-packages (from tensorboard<2.13,>=2.12->tensorflow==2.12.0) (3.5)\n",
            "Requirement already satisfied: requests<3,>=2.21.0 in /usr/local/lib/python3.10/dist-packages (from tensorboard<2.13,>=2.12->tensorflow==2.12.0) (2.31.0)\n",
            "Requirement already satisfied: tensorboard-data-server<0.8.0,>=0.7.0 in /usr/local/lib/python3.10/dist-packages (from tensorboard<2.13,>=2.12->tensorflow==2.12.0) (0.7.1)\n",
            "Requirement already satisfied: werkzeug>=1.0.1 in /usr/local/lib/python3.10/dist-packages (from tensorboard<2.13,>=2.12->tensorflow==2.12.0) (3.0.0)\n",
            "Requirement already satisfied: cachetools<6.0,>=2.0.0 in /usr/local/lib/python3.10/dist-packages (from google-auth<3,>=1.6.3->tensorboard<2.13,>=2.12->tensorflow==2.12.0) (5.3.1)\n",
            "Requirement already satisfied: pyasn1-modules>=0.2.1 in /usr/local/lib/python3.10/dist-packages (from google-auth<3,>=1.6.3->tensorboard<2.13,>=2.12->tensorflow==2.12.0) (0.3.0)\n",
            "Requirement already satisfied: rsa<5,>=3.1.4 in /usr/local/lib/python3.10/dist-packages (from google-auth<3,>=1.6.3->tensorboard<2.13,>=2.12->tensorflow==2.12.0) (4.9)\n",
            "Requirement already satisfied: requests-oauthlib>=0.7.0 in /usr/local/lib/python3.10/dist-packages (from google-auth-oauthlib<1.1,>=0.5->tensorboard<2.13,>=2.12->tensorflow==2.12.0) (1.3.1)\n",
            "Requirement already satisfied: charset-normalizer<4,>=2 in /usr/local/lib/python3.10/dist-packages (from requests<3,>=2.21.0->tensorboard<2.13,>=2.12->tensorflow==2.12.0) (3.3.0)\n",
            "Requirement already satisfied: idna<4,>=2.5 in /usr/local/lib/python3.10/dist-packages (from requests<3,>=2.21.0->tensorboard<2.13,>=2.12->tensorflow==2.12.0) (3.4)\n",
            "Requirement already satisfied: urllib3<3,>=1.21.1 in /usr/local/lib/python3.10/dist-packages (from requests<3,>=2.21.0->tensorboard<2.13,>=2.12->tensorflow==2.12.0) (2.0.7)\n",
            "Requirement already satisfied: certifi>=2017.4.17 in /usr/local/lib/python3.10/dist-packages (from requests<3,>=2.21.0->tensorboard<2.13,>=2.12->tensorflow==2.12.0) (2023.7.22)\n",
            "Requirement already satisfied: MarkupSafe>=2.1.1 in /usr/local/lib/python3.10/dist-packages (from werkzeug>=1.0.1->tensorboard<2.13,>=2.12->tensorflow==2.12.0) (2.1.3)\n",
            "Requirement already satisfied: pyasn1<0.6.0,>=0.4.6 in /usr/local/lib/python3.10/dist-packages (from pyasn1-modules>=0.2.1->google-auth<3,>=1.6.3->tensorboard<2.13,>=2.12->tensorflow==2.12.0) (0.5.0)\n",
            "Requirement already satisfied: oauthlib>=3.0.0 in /usr/local/lib/python3.10/dist-packages (from requests-oauthlib>=0.7.0->google-auth-oauthlib<1.1,>=0.5->tensorboard<2.13,>=2.12->tensorflow==2.12.0) (3.2.2)\n",
            "Installing collected packages: tensorflow-estimator, keras, gast, tensorboard, tensorflow\n",
            "  Attempting uninstall: tensorflow-estimator\n",
            "    Found existing installation: tensorflow-estimator 2.14.0\n",
            "    Uninstalling tensorflow-estimator-2.14.0:\n",
            "      Successfully uninstalled tensorflow-estimator-2.14.0\n",
            "  Attempting uninstall: keras\n",
            "    Found existing installation: keras 2.14.0\n",
            "    Uninstalling keras-2.14.0:\n",
            "      Successfully uninstalled keras-2.14.0\n",
            "  Attempting uninstall: gast\n",
            "    Found existing installation: gast 0.5.4\n",
            "    Uninstalling gast-0.5.4:\n",
            "      Successfully uninstalled gast-0.5.4\n",
            "  Attempting uninstall: tensorboard\n",
            "    Found existing installation: tensorboard 2.14.1\n",
            "    Uninstalling tensorboard-2.14.1:\n",
            "      Successfully uninstalled tensorboard-2.14.1\n",
            "  Attempting uninstall: tensorflow\n",
            "    Found existing installation: tensorflow 2.14.0\n",
            "    Uninstalling tensorflow-2.14.0:\n",
            "      Successfully uninstalled tensorflow-2.14.0\n",
            "Successfully installed gast-0.4.0 keras-2.12.0 tensorboard-2.12.3 tensorflow-2.12.0 tensorflow-estimator-2.12.0\n",
            "2.12.0\n"
          ]
        }
      ]
    },
    {
      "cell_type": "code",
      "source": [
        "import keras\n",
        "print(keras.__version__)"
      ],
      "metadata": {
        "colab": {
          "base_uri": "https://localhost:8080/"
        },
        "id": "HIXr47Z0l8AV",
        "outputId": "34b49ccf-8bf6-406f-c712-78e54c067284"
      },
      "execution_count": 2,
      "outputs": [
        {
          "output_type": "stream",
          "name": "stdout",
          "text": [
            "2.12.0\n"
          ]
        }
      ]
    },
    {
      "cell_type": "code",
      "metadata": {
        "id": "aSeClkWgIORK"
      },
      "source": [
        "\n",
        "\n",
        "\n",
        "import cv2\n",
        "import numpy as np\n",
        "\n",
        "def label_to_numpy(labels):\n",
        "  final_labels = np.zeros((len(labels), 4))\n",
        "  for i in range(len(labels)):\n",
        "    label = labels[i]\n",
        "    if label == 'Attentive':\n",
        "      final_labels[i,:] = np.array([1, 0, 0, 0])\n",
        "    if label == 'DrinkingCoffee':\n",
        "      final_labels[i,:] = np.array([0, 1, 0, 0])\n",
        "    if label == 'UsingMirror':\n",
        "      final_labels[i,:] = np.array([0, 0, 1, 0])\n",
        "    if label == 'UsingRadio':\n",
        "      final_labels[i,:] = np.array([0, 0, 0, 1])\n",
        "  return final_labels\n",
        "\n",
        "def augment(data, augmenter):\n",
        "  if len(data.shape) == 3:\n",
        "    return augmenter.augment_image(data)\n",
        "  if len(data.shape) == 4:\n",
        "    return augmenter.augment_images(data)\n",
        "\n",
        "def rotate(data, rotate):\n",
        "  fun = augmenters.Affine(rotate = rotate)\n",
        "  return augment(data, fun)\n",
        "\n",
        "def shear(data, shear):\n",
        "  fun = augmenters.Affine(shear = shear)\n",
        "  return augment(data, fun)\n",
        "\n",
        "def scale(data, scale):\n",
        "  fun = augmenters.Affine(scale = shear)\n",
        "  return augment(data, fun)\n",
        "\n",
        "def flip_left_right(data):\n",
        "  fun = augmenters.Fliplr()\n",
        "  return augment(data, fun)\n",
        "\n",
        "def flip_up_down(data):\n",
        "  fun = augmenters.Flipud()\n",
        "  return augment(data, fun)\n",
        "\n",
        "def remove_color(data, channel):\n",
        "  new_data = data.copy()\n",
        "  if len(data.shape) == 3:\n",
        "    new_data[:,:,channel] = 0\n",
        "    return new_data\n",
        "  if len(data.shape) == 4:\n",
        "    new_data[:,:,:,channel] = 0\n",
        "    return new_data\n",
        "\n",
        "class pkg:\n",
        "  #### DOWNLOADING AND LOADING DATA\n",
        "  def get_metadata(metadata_path, which_splits = ['train', 'test']):\n",
        "    '''returns metadata dataframe which contains columns of:\n",
        "       * index: index of data into numpy data\n",
        "       * class: class of image\n",
        "       * split: which dataset split is this a part of?\n",
        "    '''\n",
        "    metadata = pd.read_csv(metadata_path)\n",
        "    keep_idx = metadata['split'].isin(which_splits)\n",
        "    metadata = metadata[keep_idx]\n",
        "\n",
        "    # Get dataframes for each class.\n",
        "    df_coffee_train = metadata[(metadata['class'] == 'DrinkingCoffee') & \\\n",
        "                         (metadata['split'] == 'train')]\n",
        "    df_coffee_test = metadata[(metadata['class'] == 'DrinkingCoffee') & \\\n",
        "                         (metadata['split'] == 'test')]\n",
        "    df_mirror_train = metadata[(metadata['class'] == 'UsingMirror') & \\\n",
        "                         (metadata['split'] == 'train')]\n",
        "    df_mirror_test = metadata[(metadata['class'] == 'UsingMirror') & \\\n",
        "                         (metadata['split'] == 'test')]\n",
        "    df_attentive_train = metadata[(metadata['class'] == 'Attentive') & \\\n",
        "                         (metadata['split'] == 'train')]\n",
        "    df_attentive_test = metadata[(metadata['class'] == 'Attentive') & \\\n",
        "                         (metadata['split'] == 'test')]\n",
        "    df_radio_train = metadata[(metadata['class'] == 'UsingRadio') & \\\n",
        "                         (metadata['split'] == 'train')]\n",
        "    df_radio_test = metadata[(metadata['class'] == 'UsingRadio') & \\\n",
        "                         (metadata['split'] == 'test')]\n",
        "\n",
        "    # Get number of items in class with lowest number of images.\n",
        "    num_samples_train = min(df_coffee_train.shape[0], \\\n",
        "                            df_mirror_train.shape[0], \\\n",
        "                            df_attentive_train.shape[0], \\\n",
        "                            df_radio_train.shape[0])\n",
        "    num_samples_test = min(df_coffee_test.shape[0], \\\n",
        "                            df_mirror_test.shape[0], \\\n",
        "                            df_attentive_test.shape[0], \\\n",
        "                            df_radio_test.shape[0])\n",
        "\n",
        "    # Resample each of the classes and concatenate the images.\n",
        "    metadata_train = pd.concat([df_coffee_train.sample(num_samples_train), \\\n",
        "                          df_mirror_train.sample(num_samples_train), \\\n",
        "                          df_attentive_train.sample(num_samples_train), \\\n",
        "                          df_radio_train.sample(num_samples_train) ])\n",
        "    metadata_test = pd.concat([df_coffee_test.sample(num_samples_test), \\\n",
        "                          df_mirror_test.sample(num_samples_test), \\\n",
        "                          df_attentive_test.sample(num_samples_test), \\\n",
        "                          df_radio_test.sample(num_samples_test) ])\n",
        "\n",
        "    metadata = pd.concat( [metadata_train, metadata_test] )\n",
        "\n",
        "    return metadata\n",
        "\n",
        "  def get_data_split(split_name, flatten, all_data, metadata, image_shape):\n",
        "    '''\n",
        "    returns images (data), labels from folder of format [image_folder]/[split_name]/[class_name]/\n",
        "    flattens if flatten option is True\n",
        "    '''\n",
        "    # Get dataframes for each class.\n",
        "    df_coffee_train = metadata[(metadata['class'] == 'DrinkingCoffee') & \\\n",
        "                         (metadata['split'] == 'train')]\n",
        "    df_coffee_test = metadata[(metadata['class'] == 'DrinkingCoffee') & \\\n",
        "                         (metadata['split'] == 'test')]\n",
        "    df_mirror_train = metadata[(metadata['class'] == 'UsingMirror') & \\\n",
        "                         (metadata['split'] == 'train')]\n",
        "    df_mirror_test = metadata[(metadata['class'] == 'UsingMirror') & \\\n",
        "                         (metadata['split'] == 'test')]\n",
        "    df_attentive_train = metadata[(metadata['class'] == 'Attentive') & \\\n",
        "                         (metadata['split'] == 'train')]\n",
        "    df_attentive_test = metadata[(metadata['class'] == 'Attentive') & \\\n",
        "                         (metadata['split'] == 'test')]\n",
        "    df_radio_train = metadata[(metadata['class'] == 'UsingRadio') & \\\n",
        "                         (metadata['split'] == 'train')]\n",
        "    df_radio_test = metadata[(metadata['class'] == 'UsingRadio') & \\\n",
        "                         (metadata['split'] == 'test')]\n",
        "\n",
        "    # Get number of items in class with lowest number of images.\n",
        "    num_samples_train = min(df_coffee_train.shape[0], \\\n",
        "                            df_mirror_train.shape[0], \\\n",
        "                            df_attentive_train.shape[0], \\\n",
        "                            df_radio_train.shape[0])\n",
        "    num_samples_test = min(df_coffee_test.shape[0], \\\n",
        "                            df_mirror_test.shape[0], \\\n",
        "                            df_attentive_test.shape[0], \\\n",
        "                            df_radio_test.shape[0])\n",
        "\n",
        "    # Resample each of the classes and concatenate the images.\n",
        "    metadata_train = pd.concat([df_coffee_train.sample(num_samples_train), \\\n",
        "                          df_mirror_train.sample(num_samples_train), \\\n",
        "                          df_attentive_train.sample(num_samples_train), \\\n",
        "                          df_radio_train.sample(num_samples_train) ])\n",
        "    metadata_test = pd.concat([df_coffee_test.sample(num_samples_test), \\\n",
        "                          df_mirror_test.sample(num_samples_test), \\\n",
        "                          df_attentive_test.sample(num_samples_test), \\\n",
        "                          df_radio_test.sample(num_samples_test) ])\n",
        "\n",
        "    metadata = pd.concat( [metadata_train, metadata_test] )\n",
        "\n",
        "    sub_df = metadata[metadata['split'].isin([split_name])]\n",
        "    index  = sub_df['index'].values\n",
        "    labels = sub_df['class'].values\n",
        "    data = all_data[index,:]\n",
        "    if flatten:\n",
        "      data = data.reshape([-1, np.product(image_shape)])\n",
        "    return data, labels\n",
        "\n",
        "  def get_train_data(flatten, all_data, metadata, image_shape):\n",
        "    return get_data_split('train', flatten, all_data, metadata, image_shape)\n",
        "\n",
        "  def get_test_data(flatten, all_data, metadata, image_shape):\n",
        "    return get_data_split('test', flatten, all_data, metadata, image_shape)\n",
        "\n",
        "  def get_field_data(flatten, all_data, metadata, image_shape):\n",
        "    return get_data_split('field', flatten, all_data, metadata, image_shape)\n",
        "\n",
        "class helpers:\n",
        "  #### PLOTTING\n",
        "  def plot_image(data, num_ims, figsize=(8,6), labels = [], index = None, image_shape = [64,64,3]):\n",
        "    '''\n",
        "    if data is a single image, display that image\n",
        "\n",
        "    if data is a 4d stack of images, display that image\n",
        "    '''\n",
        "    print(data.shape)\n",
        "    num_dims   = len(data.shape)\n",
        "    num_labels = len(labels)\n",
        "\n",
        "    # reshape data if necessary\n",
        "    if num_dims == 1:\n",
        "      data = data.reshape(target_shape)\n",
        "    if num_dims == 2:\n",
        "      data = data.reshape(-1,image_shape[0],image_shape[1],image_shape[2])\n",
        "    num_dims   = len(data.shape)\n",
        "\n",
        "    # check if single or multiple images\n",
        "    if num_dims == 3:\n",
        "      if num_labels > 1:\n",
        "        print('Multiple labels does not make sense for single image.')\n",
        "        return\n",
        "\n",
        "      label = labels\n",
        "      if num_labels == 0:\n",
        "        label = ''\n",
        "      image = data\n",
        "\n",
        "    if num_dims == 4:\n",
        "      image = data[index, :]\n",
        "      label = labels[index]\n",
        "\n",
        "    # plot image of interest\n",
        "\n",
        "    nrows=int(np.sqrt(num_ims))\n",
        "    ncols=int(np.ceil(num_ims/nrows))\n",
        "    print(nrows,ncols)\n",
        "    count=0\n",
        "    if nrows==1 and ncols==1:\n",
        "      print('Label: %s'%label)\n",
        "      plt.imshow(image)\n",
        "      plt.show()\n",
        "    else:\n",
        "      print(labels)\n",
        "      fig = plt.figure(figsize=figsize)\n",
        "      for i in range(nrows):\n",
        "        for j in range(ncols):\n",
        "          if count<num_ims:\n",
        "            fig.add_subplot(nrows,ncols,count+1)\n",
        "            plt.imshow(image[count])\n",
        "            count+=1\n",
        "      fig.set_size_inches(18.5, 10.5)\n",
        "      plt.show()\n",
        "\n",
        "\n",
        "\n",
        "  #### QUERYING AND COMBINING DATA\n",
        "  def get_misclassified_data(data, labels, predictions):\n",
        "    '''\n",
        "    Gets the data and labels that are misclassified in a classification task\n",
        "    Returns:\n",
        "    -missed_data\n",
        "    -missed_labels\n",
        "    -predicted_labels (corresponding to missed_labels)\n",
        "    -missed_index (indices of items in original dataset)\n",
        "    '''\n",
        "    missed_index     = np.where(np.abs(predictions.squeeze() - labels.squeeze()) > 0)[0]\n",
        "    missed_labels    = labels[missed_index]\n",
        "    missed_data      = data[missed_index,:]\n",
        "    predicted_labels = predictions[missed_index]\n",
        "    return missed_data, missed_labels, predicted_labels, missed_index\n",
        "\n",
        "  def combine_data(data_list, labels_list):\n",
        "    return np.concatenate(data_list, axis = 0), np.concatenate(labels_list, axis = 0)\n",
        "\n",
        "  def model_to_string(model):\n",
        "    import re\n",
        "    stringlist = []\n",
        "    model.summary(print_fn=lambda x: stringlist.append(x))\n",
        "    sms = \"\\n\".join(stringlist)\n",
        "    sms = re.sub('_\\d\\d\\d','', sms)\n",
        "    sms = re.sub('_\\d\\d','', sms)\n",
        "    sms = re.sub('_\\d','', sms)\n",
        "    return sms\n",
        "\n",
        "  def plot_acc(history, ax = None, xlabel = 'Epoch #'):\n",
        "    history = history.history\n",
        "    history.update({'epoch':list(range(len(history['val_accuracy'])))})\n",
        "    history = pd.DataFrame.from_dict(history)\n",
        "\n",
        "    best_epoch = history.sort_values(by = 'val_accuracy', ascending = False).iloc[0]['epoch']\n",
        "\n",
        "    if not ax:\n",
        "      f, ax = plt.subplots(1,1)\n",
        "    sns.lineplot(x = 'epoch', y = 'val_accuracy', data = history, label = 'Validation', ax = ax)\n",
        "    sns.lineplot(x = 'epoch', y = 'accuracy', data = history, label = 'Training', ax = ax)\n",
        "    ax.axhline(0.25, linestyle = '--',color='red', label = 'Chance')\n",
        "    ax.axvline(x = best_epoch, linestyle = '--', color = 'green', label = 'Best Epoch')\n",
        "    ax.legend(loc = 1)\n",
        "    ax.set_ylim([0.01, 1])\n",
        "\n",
        "    ax.set_xlabel(xlabel)\n",
        "    ax.set_ylabel('Accuracy (Fraction)')\n",
        "\n",
        "    plt.show()\n",
        "\n",
        "class models:\n",
        "  def DenseClassifier(hidden_layer_sizes, nn_params, dropout = 0.5):\n",
        "    model = Sequential()\n",
        "    model.add(Flatten(input_shape = nn_params['input_shape']))\n",
        "    for ilayer in hidden_layer_sizes:\n",
        "      model.add(Dense(ilayer, activation = 'relu'))\n",
        "      if dropout:\n",
        "        model.add(Dropout(dropout))\n",
        "    model.add(Dense(units = nn_params['output_neurons'], activation = nn_params['output_activation']))\n",
        "    model.compile(loss=nn_params['loss'],\n",
        "                  optimizer=optimizers.SGD(lr=1e-4, momentum=0.95),\n",
        "                  metrics=['accuracy'])\n",
        "    return model\n",
        "\n",
        "  def CNNClassifier(num_hidden_layers, nn_params, dropout = 0.5):\n",
        "    model = Sequential()\n",
        "\n",
        "    model.add(Conv2D(32, (3, 3), input_shape=nn_params['input_shape'], padding = 'same'))\n",
        "    model.add(Activation('relu'))\n",
        "    model.add(MaxPooling2D(pool_size=(2, 2)))\n",
        "\n",
        "    for i in range(num_hidden_layers-1):\n",
        "        model.add(Conv2D(32, (3, 3), padding = 'same'))\n",
        "        model.add(Activation('relu'))\n",
        "        model.add(MaxPooling2D(pool_size=(2, 2)))\n",
        "\n",
        "    model.add(Flatten())\n",
        "\n",
        "    model.add(Dense(units = 128, activation = 'relu'))\n",
        "    model.add(Dropout(dropout))\n",
        "\n",
        "    model.add(Dense(units = 64, activation = 'relu'))\n",
        "\n",
        "\n",
        "    model.add(Dense(units = nn_params['output_neurons'], activation = nn_params['output_activation']))\n",
        "\n",
        "    # initiate RMSprop optimizer\n",
        "    opt = tensorflow.keras.optimizers.RMSprop(lr=1e-4)\n",
        "\n",
        "    # Let's train the model using RMSprop\n",
        "    model.compile(loss=nn_params['loss'],\n",
        "                  optimizer=opt,\n",
        "                  metrics=['accuracy'])\n",
        "    return model\n",
        "\n",
        "  def TransferClassifier(name, nn_params):\n",
        "    expert_dict = {'VGG16': VGG16,\n",
        "                   'VGG19': VGG19,\n",
        "                   'ResNet50':ResNet50,\n",
        "                   'DenseNet121':DenseNet121}\n",
        "\n",
        "    expert_conv = expert_dict[name](weights = 'imagenet',\n",
        "                                              include_top = False,\n",
        "                                              input_shape = nn_params['input_shape'])\n",
        "\n",
        "    expert_model = Sequential()\n",
        "    expert_model.add(expert_conv)\n",
        "    expert_model.add(GlobalAveragePooling2D())\n",
        "\n",
        "    expert_model.add(Dense(1024, activation = 'relu'))\n",
        "    expert_model.add(Dropout(0.3))\n",
        "\n",
        "    expert_model.add(Dense(512, activation = 'relu'))\n",
        "    expert_model.add(Dropout(0.3))\n",
        "\n",
        "    expert_model.add(Dense(nn_params['output_neurons'],\n",
        "                           activation = nn_params['output_activation']))\n",
        "\n",
        "    expert_model.compile(loss = nn_params['loss'],\n",
        "                  optimizer = optimizers.SGD(lr=1e-4, momentum=0.95),\n",
        "                  metrics=['accuracy'])\n",
        "\n",
        "    return expert_model\n",
        "\n",
        "import gdown\n",
        "import zipfile\n",
        "\n",
        "import os\n",
        "import numpy as np\n",
        "import pandas as pd\n",
        "\n",
        "import seaborn as sns\n",
        "import matplotlib.pyplot as plt\n",
        "\n",
        "from sklearn.linear_model import LogisticRegression\n",
        "from sklearn.neural_network import MLPClassifier\n",
        "from sklearn.neighbors import KNeighborsClassifier\n",
        "from sklearn.tree import DecisionTreeClassifier\n",
        "\n",
        "from sklearn.metrics import accuracy_score, confusion_matrix\n",
        "from sklearn import model_selection\n",
        "\n",
        "from collections import Counter\n",
        "\n",
        "import tensorflow.keras\n",
        "from tensorflow.keras.models import Sequential\n",
        "from tensorflow.keras.layers import Activation, MaxPooling2D, Dropout, Flatten, Reshape, Dense, Conv2D, GlobalAveragePooling2D\n",
        "from tensorflow.keras.wrappers.scikit_learn import KerasClassifier\n",
        "import tensorflow.keras.optimizers as optimizers\n",
        "from tensorflow.keras.callbacks import ModelCheckpoint\n",
        "\n",
        "from tensorflow.keras.applications import VGG16, VGG19, ResNet50, DenseNet121\n",
        "\n",
        "from imgaug import augmenters\n",
        "\n",
        "### defining project variables\n",
        "# file variables\n",
        "image_data_url       = 'https://drive.google.com/uc?id=1qmTuUyn0525-612yS-wkp8gHB72Wv_XP'\n",
        "metadata_url         = 'https://drive.google.com/uc?id=1OfKnq3uIT29sXjWSZqOOpceig8Ul24OW'\n",
        "image_data_path      = './image_data.npy'\n",
        "metadata_path        = './metadata.csv'\n",
        "image_shape          = (64, 64, 3)\n",
        "\n",
        "# neural net parameters\n",
        "nn_params = {}\n",
        "nn_params['input_shape']       = image_shape\n",
        "nn_params['output_neurons']    = 4\n",
        "nn_params['loss']              = 'categorical_crossentropy'\n",
        "nn_params['output_activation'] = 'softmax'\n",
        "\n",
        "###\n",
        "gdown.download(image_data_url, image_data_path , True)\n",
        "gdown.download(metadata_url, metadata_path , True)\n",
        "\n",
        "\n",
        "### pre-loading all data of interest\n",
        "_all_data = np.load('image_data.npy')\n",
        "_metadata = pkg.get_metadata(metadata_path, ['train','test','field'])\n",
        "\n",
        "### preparing definitions\n",
        "# downloading and loading data\n",
        "get_data_split = pkg.get_data_split\n",
        "get_metadata    = lambda :                 pkg.get_metadata(metadata_path, ['train','test'])\n",
        "get_train_data  = lambda flatten = False : pkg.get_train_data(flatten = flatten, all_data = _all_data, metadata = _metadata, image_shape = image_shape)\n",
        "get_test_data   = lambda flatten = False : pkg.get_test_data(flatten = flatten, all_data = _all_data, metadata = _metadata, image_shape = image_shape)\n",
        "get_field_data  = lambda flatten = False : pkg.get_field_data(flatten = flatten, all_data = _all_data, metadata = _metadata, image_shape = image_shape)\n",
        "\n",
        "# plotting\n",
        "plot_image = lambda data, num_ims,figsize=(8,6), labels = [], index = None: helpers.plot_image(data = data, num_ims=num_ims, figsize=figsize,labels = labels, index = index, image_shape = image_shape);\n",
        "plot_acc       = lambda history: helpers.plot_acc(history)\n",
        "\n",
        "# querying and combining data\n",
        "model_to_string        = lambda model: helpers.model_to_string(model)\n",
        "get_misclassified_data = helpers.get_misclassified_data;\n",
        "combine_data           = helpers.combine_data;\n",
        "\n",
        "# models with input parameters\n",
        "DenseClassifier     = lambda hidden_layer_sizes: models.DenseClassifier(hidden_layer_sizes = hidden_layer_sizes, nn_params = nn_params);\n",
        "CNNClassifier       = lambda num_hidden_layers: models.CNNClassifier(num_hidden_layers, nn_params = nn_params);\n",
        "TransferClassifier  = lambda name: models.TransferClassifier(name = name, nn_params = nn_params);\n",
        "\n",
        "monitor = ModelCheckpoint('./model.h5', monitor='val_loss', verbose=0, save_best_only=True, save_weights_only=False, mode='auto', save_freq='epoch')"
      ],
      "execution_count": 3,
      "outputs": []
    },
    {
      "cell_type": "code",
      "metadata": {
        "id": "cqFAnQCxsgRm"
      },
      "source": [
        "# grab tools from our tensorflow and keras toolboxes\n",
        "import tensorflow as tf\n",
        "from tensorflow.keras.models import Sequential\n",
        "from tensorflow.keras.layers import Activation, Dropout, Flatten, Dense\n",
        "from tensorflow.keras import optimizers"
      ],
      "execution_count": 4,
      "outputs": []
    },
    {
      "cell_type": "code",
      "metadata": {
        "id": "Yus22AQpsqMH"
      },
      "source": [
        "# create our model by specifying and compiling it\n",
        "# train model\n",
        "model = Sequential()\n",
        "model.add(Dense(4, input_shape=(3,),activation = 'relu'))\n",
        "model.add(Dense(1, activation = 'linear'))\n",
        "model.compile(loss='mean_squared_error',\n",
        "                optimizer='adam',\n",
        "                metrics=['mean_squared_error'])"
      ],
      "execution_count": 5,
      "outputs": []
    },
    {
      "cell_type": "code",
      "metadata": {
        "id": "d4rDgysgFtsC"
      },
      "source": [
        "# grab tools from our tensorflow and keras toolboxes\n",
        "import tensorflow as tf\n",
        "from tensorflow.keras.models import Sequential\n",
        "from tensorflow.keras.layers import Activation, Dropout, Flatten, Dense\n",
        "from tensorflow.keras import optimizers"
      ],
      "execution_count": 6,
      "outputs": []
    },
    {
      "cell_type": "code",
      "metadata": {
        "id": "-zgA-wPfvCyK"
      },
      "source": [
        "\n",
        "model_1 = Sequential()\n",
        "model_1.add(Dense(4, input_shape = (3,), activation = 'relu'))\n",
        "model_1.add(Dense(2, activation = 'softmax'))\n",
        "\n",
        "model_1.compile(loss='categorical_crossentropy', optimizer = 'adam', metrics = ['accuracy'])\n"
      ],
      "execution_count": 7,
      "outputs": []
    },
    {
      "cell_type": "code",
      "metadata": {
        "id": "ZJUSGm_oJF7h",
        "colab": {
          "base_uri": "https://localhost:8080/"
        },
        "outputId": "2e4a910d-529e-4176-ac59-12736620c13c"
      },
      "source": [
        "model_2 = Sequential()\n",
        "model_2.add(Flatten(input_shape = (64, 64, 3)))\n",
        "### FILL IN YOUR CODE HERE\n",
        "model_2.add(Dense(128, activation = 'relu' ))\n",
        "model_2.add(Dense(4, activation = 'softmax'))\n",
        "model_2.compile(loss = 'categorical_crossentropy', optimizer = optimizers.SGD(lr=1e-4, momentum=0.95), metrics = ['accuracy'])\n",
        "### END CODE"
      ],
      "execution_count": 8,
      "outputs": [
        {
          "output_type": "stream",
          "name": "stderr",
          "text": [
            "WARNING:absl:`lr` is deprecated in Keras optimizer, please use `learning_rate` or use the legacy optimizer, e.g.,tf.keras.optimizers.legacy.SGD.\n"
          ]
        }
      ]
    },
    {
      "cell_type": "code",
      "metadata": {
        "id": "-tjgTdXv6Kh7"
      },
      "source": [
        "from tensorflow.keras.callbacks import ModelCheckpoint"
      ],
      "execution_count": 9,
      "outputs": []
    },
    {
      "cell_type": "code",
      "metadata": {
        "id": "-PeIseTjM7uG",
        "colab": {
          "base_uri": "https://localhost:8080/"
        },
        "outputId": "4a7a672c-3836-457f-b9b1-1ada66c6b08c"
      },
      "source": [
        "# define our monitor.\n",
        "monitor = ModelCheckpoint('./model.h5', monitor='val_loss', verbose=0, save_best_only=True, save_weights_only=False, mode='auto', save_freq='epoch')\n",
        "\n",
        "#get the train data and test data\n",
        "train_data, train_labels = get_train_data()\n",
        "test_data, test_labels = get_test_data()\n",
        "\n",
        "# Reshape the data.\n",
        "train_data = train_data.reshape([-1, 64, 64, 3])\n",
        "test_data = test_data.reshape([-1, 64, 64, 3])\n",
        "\n",
        "# Convert string labels into numpy arrays.\n",
        "train_labels = label_to_numpy(train_labels)\n",
        "test_labels = label_to_numpy(test_labels)\n",
        "\n",
        "#fit model\n",
        "history = model_2.fit(train_data, train_labels, epochs = 10, validation_data = (test_data, test_labels), shuffle = True, callbacks = [monitor])\n"
      ],
      "execution_count": 10,
      "outputs": [
        {
          "output_type": "stream",
          "name": "stdout",
          "text": [
            "Epoch 1/10\n",
            "211/211 [==============================] - 8s 7ms/step - loss: 1.0985 - accuracy: 0.5165 - val_loss: 9.0888 - val_accuracy: 0.2989\n",
            "Epoch 2/10\n",
            "211/211 [==============================] - 1s 6ms/step - loss: 1.3102 - accuracy: 0.3553 - val_loss: 1.2981 - val_accuracy: 0.3641\n",
            "Epoch 3/10\n",
            "211/211 [==============================] - 1s 6ms/step - loss: 0.8931 - accuracy: 0.5094 - val_loss: 1.7282 - val_accuracy: 0.3359\n",
            "Epoch 4/10\n",
            "211/211 [==============================] - 1s 5ms/step - loss: 1.4957 - accuracy: 0.2601 - val_loss: 1.3880 - val_accuracy: 0.2500\n",
            "Epoch 5/10\n",
            "211/211 [==============================] - 1s 4ms/step - loss: 1.3887 - accuracy: 0.2460 - val_loss: 1.3854 - val_accuracy: 0.2783\n",
            "Epoch 6/10\n",
            "211/211 [==============================] - 1s 4ms/step - loss: 1.3877 - accuracy: 0.2457 - val_loss: 1.3870 - val_accuracy: 0.2500\n",
            "Epoch 7/10\n",
            "211/211 [==============================] - 1s 4ms/step - loss: 1.3874 - accuracy: 0.2485 - val_loss: 1.3852 - val_accuracy: 0.2543\n",
            "Epoch 8/10\n",
            "211/211 [==============================] - 1s 4ms/step - loss: 1.3873 - accuracy: 0.2509 - val_loss: 1.3866 - val_accuracy: 0.2522\n",
            "Epoch 9/10\n",
            "211/211 [==============================] - 1s 4ms/step - loss: 1.3875 - accuracy: 0.2490 - val_loss: 1.3866 - val_accuracy: 0.2500\n",
            "Epoch 10/10\n",
            "211/211 [==============================] - 1s 4ms/step - loss: 1.3875 - accuracy: 0.2448 - val_loss: 1.3851 - val_accuracy: 0.2891\n"
          ]
        }
      ]
    },
    {
      "cell_type": "code",
      "metadata": {
        "id": "xvhyL-jJ9rKt",
        "colab": {
          "base_uri": "https://localhost:8080/",
          "height": 455
        },
        "outputId": "e2a3d7e4-7277-4f0e-c737-afa6b2f1d30a"
      },
      "source": [
        "#plot\n",
        "plot_acc(history)\n"
      ],
      "execution_count": 11,
      "outputs": [
        {
          "output_type": "display_data",
          "data": {
            "text/plain": [
              "<Figure size 640x480 with 1 Axes>"
            ],
            "image/png": "[encoded data removed]"
          },
          "metadata": {}
        }
      ]
    },
    {
      "cell_type": "code",
      "metadata": {
        "id": "vNDBeK9K2ZzU",
        "colab": {
          "base_uri": "https://localhost:8080/"
        },
        "outputId": "ac04cc88-a3e3-49ad-8419-d84bd000f69b"
      },
      "source": [
        "#build and compile cnn\n",
        "cnn = Sequential()\n",
        "cnn.add(Conv2D(64, (3, 3), input_shape=(64,64,3)))\n",
        "cnn.add(Activation('relu'))\n",
        "cnn.add(MaxPooling2D(pool_size=(2, 2)))\n",
        "cnn.add(Flatten())\n",
        "cnn.add(Dense(units = 128, activation = 'relu'))\n",
        "cnn.add(Dense(units = 4, activation = 'softmax'))\n",
        "\n",
        "\n",
        "# compile the network\n",
        "cnn.compile(loss='categorical_crossentropy', optimizer=optimizers.SGD(lr=1e-3, momentum=0.95), metrics=['accuracy'])\n"
      ],
      "execution_count": 13,
      "outputs": [
        {
          "output_type": "stream",
          "name": "stderr",
          "text": [
            "WARNING:absl:`lr` is deprecated in Keras optimizer, please use `learning_rate` or use the legacy optimizer, e.g.,tf.keras.optimizers.legacy.SGD.\n"
          ]
        }
      ]
    },
    {
      "cell_type": "code",
      "metadata": {
        "id": "_HTn3r594KWZ",
        "colab": {
          "base_uri": "https://localhost:8080/"
        },
        "outputId": "cd39c74a-01d2-42a5-9fff-e831f272c4d1"
      },
      "source": [
        "#fit model (100 epochs)\n",
        "history = cnn.fit(train_data, train_labels, epochs = 100, validation_data = (test_data, test_labels), shuffle = True, callbacks = [monitor])\n"
      ],
      "execution_count": 14,
      "outputs": [
        {
          "output_type": "stream",
          "name": "stdout",
          "text": [
            "Epoch 1/100\n",
            "211/211 [==============================] - 8s 11ms/step - loss: 0.5221 - accuracy: 0.7973 - val_loss: 1.7652 - val_accuracy: 0.3967\n",
            "Epoch 2/100\n",
            "211/211 [==============================] - 2s 8ms/step - loss: 0.0402 - accuracy: 0.9874 - val_loss: 2.0027 - val_accuracy: 0.4717\n",
            "Epoch 3/100\n",
            "211/211 [==============================] - 2s 7ms/step - loss: 0.0123 - accuracy: 0.9964 - val_loss: 2.4310 - val_accuracy: 0.4250\n",
            "Epoch 4/100\n",
            "211/211 [==============================] - 2s 7ms/step - loss: 0.0025 - accuracy: 0.9993 - val_loss: 3.0567 - val_accuracy: 0.4261\n",
            "Epoch 5/100\n",
            "211/211 [==============================] - 2s 7ms/step - loss: 7.1343e-04 - accuracy: 0.9999 - val_loss: 3.2580 - val_accuracy: 0.4435\n",
            "Epoch 6/100\n",
            "211/211 [==============================] - 1s 7ms/step - loss: 3.4233e-04 - accuracy: 1.0000 - val_loss: 3.1366 - val_accuracy: 0.4598\n",
            "Epoch 7/100\n",
            "211/211 [==============================] - 2s 7ms/step - loss: 1.6480e-04 - accuracy: 1.0000 - val_loss: 3.3489 - val_accuracy: 0.4457\n",
            "Epoch 8/100\n",
            "211/211 [==============================] - 2s 7ms/step - loss: 9.4700e-05 - accuracy: 1.0000 - val_loss: 3.4280 - val_accuracy: 0.4457\n",
            "Epoch 9/100\n",
            "211/211 [==============================] - 2s 8ms/step - loss: 7.9292e-05 - accuracy: 1.0000 - val_loss: 3.4790 - val_accuracy: 0.4478\n",
            "Epoch 10/100\n",
            "211/211 [==============================] - 2s 8ms/step - loss: 6.9322e-05 - accuracy: 1.0000 - val_loss: 3.5150 - val_accuracy: 0.4511\n",
            "Epoch 11/100\n",
            "211/211 [==============================] - 2s 8ms/step - loss: 6.2401e-05 - accuracy: 1.0000 - val_loss: 3.5714 - val_accuracy: 0.4511\n",
            "Epoch 12/100\n",
            "211/211 [==============================] - 1s 7ms/step - loss: 5.6693e-05 - accuracy: 1.0000 - val_loss: 3.6052 - val_accuracy: 0.4533\n",
            "Epoch 13/100\n",
            "211/211 [==============================] - 1s 7ms/step - loss: 5.2259e-05 - accuracy: 1.0000 - val_loss: 3.6360 - val_accuracy: 0.4543\n",
            "Epoch 14/100\n",
            "211/211 [==============================] - 1s 7ms/step - loss: 4.8701e-05 - accuracy: 1.0000 - val_loss: 3.6623 - val_accuracy: 0.4554\n",
            "Epoch 15/100\n",
            "211/211 [==============================] - 1s 7ms/step - loss: 4.5407e-05 - accuracy: 1.0000 - val_loss: 3.6893 - val_accuracy: 0.4554\n",
            "Epoch 16/100\n",
            "211/211 [==============================] - 2s 7ms/step - loss: 4.2903e-05 - accuracy: 1.0000 - val_loss: 3.7134 - val_accuracy: 0.4554\n",
            "Epoch 17/100\n",
            "211/211 [==============================] - 1s 7ms/step - loss: 4.0204e-05 - accuracy: 1.0000 - val_loss: 3.7453 - val_accuracy: 0.4565\n",
            "Epoch 18/100\n",
            "211/211 [==============================] - 2s 7ms/step - loss: 3.8157e-05 - accuracy: 1.0000 - val_loss: 3.7640 - val_accuracy: 0.4554\n",
            "Epoch 19/100\n",
            "211/211 [==============================] - 2s 8ms/step - loss: 3.6316e-05 - accuracy: 1.0000 - val_loss: 3.7825 - val_accuracy: 0.4576\n",
            "Epoch 20/100\n",
            "211/211 [==============================] - 2s 8ms/step - loss: 3.4537e-05 - accuracy: 1.0000 - val_loss: 3.8044 - val_accuracy: 0.4576\n",
            "Epoch 21/100\n",
            "211/211 [==============================] - 2s 8ms/step - loss: 3.3207e-05 - accuracy: 1.0000 - val_loss: 3.8198 - val_accuracy: 0.4587\n",
            "Epoch 22/100\n",
            "211/211 [==============================] - 1s 7ms/step - loss: 3.1644e-05 - accuracy: 1.0000 - val_loss: 3.8378 - val_accuracy: 0.4576\n",
            "Epoch 23/100\n",
            "211/211 [==============================] - 1s 7ms/step - loss: 3.0304e-05 - accuracy: 1.0000 - val_loss: 3.8546 - val_accuracy: 0.4620\n",
            "Epoch 24/100\n",
            "211/211 [==============================] - 2s 7ms/step - loss: 2.9218e-05 - accuracy: 1.0000 - val_loss: 3.8742 - val_accuracy: 0.4598\n",
            "Epoch 25/100\n",
            "211/211 [==============================] - 1s 7ms/step - loss: 2.8171e-05 - accuracy: 1.0000 - val_loss: 3.8895 - val_accuracy: 0.4598\n",
            "Epoch 26/100\n",
            "211/211 [==============================] - 1s 7ms/step - loss: 2.7088e-05 - accuracy: 1.0000 - val_loss: 3.9014 - val_accuracy: 0.4598\n",
            "Epoch 27/100\n",
            "211/211 [==============================] - 1s 7ms/step - loss: 2.6271e-05 - accuracy: 1.0000 - val_loss: 3.9161 - val_accuracy: 0.4620\n",
            "Epoch 28/100\n",
            "211/211 [==============================] - 2s 7ms/step - loss: 2.5323e-05 - accuracy: 1.0000 - val_loss: 3.9370 - val_accuracy: 0.4609\n",
            "Epoch 29/100\n",
            "211/211 [==============================] - 2s 8ms/step - loss: 2.4557e-05 - accuracy: 1.0000 - val_loss: 3.9530 - val_accuracy: 0.4609\n",
            "Epoch 30/100\n",
            "211/211 [==============================] - 2s 8ms/step - loss: 2.3827e-05 - accuracy: 1.0000 - val_loss: 3.9633 - val_accuracy: 0.4620\n",
            "Epoch 31/100\n",
            "211/211 [==============================] - 2s 8ms/step - loss: 2.3107e-05 - accuracy: 1.0000 - val_loss: 3.9763 - val_accuracy: 0.4620\n",
            "Epoch 32/100\n",
            "211/211 [==============================] - 2s 7ms/step - loss: 2.2376e-05 - accuracy: 1.0000 - val_loss: 3.9860 - val_accuracy: 0.4630\n",
            "Epoch 33/100\n",
            "211/211 [==============================] - 1s 7ms/step - loss: 2.1709e-05 - accuracy: 1.0000 - val_loss: 3.9968 - val_accuracy: 0.4641\n",
            "Epoch 34/100\n",
            "211/211 [==============================] - 2s 7ms/step - loss: 2.1113e-05 - accuracy: 1.0000 - val_loss: 4.0147 - val_accuracy: 0.4630\n",
            "Epoch 35/100\n",
            "211/211 [==============================] - 1s 7ms/step - loss: 2.0616e-05 - accuracy: 1.0000 - val_loss: 4.0246 - val_accuracy: 0.4630\n",
            "Epoch 36/100\n",
            "211/211 [==============================] - 1s 7ms/step - loss: 2.0087e-05 - accuracy: 1.0000 - val_loss: 4.0377 - val_accuracy: 0.4630\n",
            "Epoch 37/100\n",
            "211/211 [==============================] - 1s 7ms/step - loss: 1.9512e-05 - accuracy: 1.0000 - val_loss: 4.0440 - val_accuracy: 0.4630\n",
            "Epoch 38/100\n",
            "211/211 [==============================] - 2s 7ms/step - loss: 1.9066e-05 - accuracy: 1.0000 - val_loss: 4.0545 - val_accuracy: 0.4630\n",
            "Epoch 39/100\n",
            "211/211 [==============================] - 2s 8ms/step - loss: 1.8752e-05 - accuracy: 1.0000 - val_loss: 4.0685 - val_accuracy: 0.4630\n",
            "Epoch 40/100\n",
            "211/211 [==============================] - 2s 8ms/step - loss: 1.8207e-05 - accuracy: 1.0000 - val_loss: 4.0794 - val_accuracy: 0.4630\n",
            "Epoch 41/100\n",
            "211/211 [==============================] - 2s 8ms/step - loss: 1.7735e-05 - accuracy: 1.0000 - val_loss: 4.0855 - val_accuracy: 0.4641\n",
            "Epoch 42/100\n",
            "211/211 [==============================] - 1s 7ms/step - loss: 1.7268e-05 - accuracy: 1.0000 - val_loss: 4.0973 - val_accuracy: 0.4620\n",
            "Epoch 43/100\n",
            "211/211 [==============================] - 2s 7ms/step - loss: 1.6985e-05 - accuracy: 1.0000 - val_loss: 4.1060 - val_accuracy: 0.4641\n",
            "Epoch 44/100\n",
            "211/211 [==============================] - 1s 7ms/step - loss: 1.6558e-05 - accuracy: 1.0000 - val_loss: 4.1117 - val_accuracy: 0.4641\n",
            "Epoch 45/100\n",
            "211/211 [==============================] - 2s 7ms/step - loss: 1.6196e-05 - accuracy: 1.0000 - val_loss: 4.1239 - val_accuracy: 0.4641\n",
            "Epoch 46/100\n",
            "211/211 [==============================] - 1s 7ms/step - loss: 1.5871e-05 - accuracy: 1.0000 - val_loss: 4.1344 - val_accuracy: 0.4630\n",
            "Epoch 47/100\n",
            "211/211 [==============================] - 2s 7ms/step - loss: 1.5545e-05 - accuracy: 1.0000 - val_loss: 4.1419 - val_accuracy: 0.4641\n",
            "Epoch 48/100\n",
            "211/211 [==============================] - 2s 7ms/step - loss: 1.5231e-05 - accuracy: 1.0000 - val_loss: 4.1537 - val_accuracy: 0.4641\n",
            "Epoch 49/100\n",
            "211/211 [==============================] - 2s 8ms/step - loss: 1.4949e-05 - accuracy: 1.0000 - val_loss: 4.1600 - val_accuracy: 0.4630\n",
            "Epoch 50/100\n",
            "211/211 [==============================] - 2s 8ms/step - loss: 1.4689e-05 - accuracy: 1.0000 - val_loss: 4.1659 - val_accuracy: 0.4641\n",
            "Epoch 51/100\n",
            "211/211 [==============================] - 2s 8ms/step - loss: 1.4370e-05 - accuracy: 1.0000 - val_loss: 4.1768 - val_accuracy: 0.4630\n",
            "Epoch 52/100\n",
            "211/211 [==============================] - 1s 7ms/step - loss: 1.4107e-05 - accuracy: 1.0000 - val_loss: 4.1826 - val_accuracy: 0.4630\n",
            "Epoch 53/100\n",
            "211/211 [==============================] - 2s 7ms/step - loss: 1.3838e-05 - accuracy: 1.0000 - val_loss: 4.1915 - val_accuracy: 0.4630\n",
            "Epoch 54/100\n",
            "211/211 [==============================] - 1s 7ms/step - loss: 1.3633e-05 - accuracy: 1.0000 - val_loss: 4.1975 - val_accuracy: 0.4630\n",
            "Epoch 55/100\n",
            "211/211 [==============================] - 1s 7ms/step - loss: 1.3372e-05 - accuracy: 1.0000 - val_loss: 4.2072 - val_accuracy: 0.4630\n",
            "Epoch 56/100\n",
            "211/211 [==============================] - 1s 7ms/step - loss: 1.3143e-05 - accuracy: 1.0000 - val_loss: 4.2144 - val_accuracy: 0.4630\n",
            "Epoch 57/100\n",
            "211/211 [==============================] - 1s 7ms/step - loss: 1.2932e-05 - accuracy: 1.0000 - val_loss: 4.2217 - val_accuracy: 0.4630\n",
            "Epoch 58/100\n",
            "211/211 [==============================] - 2s 7ms/step - loss: 1.2738e-05 - accuracy: 1.0000 - val_loss: 4.2290 - val_accuracy: 0.4630\n",
            "Epoch 59/100\n",
            "211/211 [==============================] - 2s 8ms/step - loss: 1.2505e-05 - accuracy: 1.0000 - val_loss: 4.2373 - val_accuracy: 0.4630\n",
            "Epoch 60/100\n",
            "211/211 [==============================] - 2s 8ms/step - loss: 1.2305e-05 - accuracy: 1.0000 - val_loss: 4.2422 - val_accuracy: 0.4630\n",
            "Epoch 61/100\n",
            "211/211 [==============================] - 2s 8ms/step - loss: 1.2121e-05 - accuracy: 1.0000 - val_loss: 4.2485 - val_accuracy: 0.4630\n",
            "Epoch 62/100\n",
            "211/211 [==============================] - 2s 8ms/step - loss: 1.1923e-05 - accuracy: 1.0000 - val_loss: 4.2492 - val_accuracy: 0.4620\n",
            "Epoch 63/100\n",
            "211/211 [==============================] - 2s 7ms/step - loss: 1.1748e-05 - accuracy: 1.0000 - val_loss: 4.2585 - val_accuracy: 0.4630\n",
            "Epoch 64/100\n",
            "211/211 [==============================] - 1s 7ms/step - loss: 1.1599e-05 - accuracy: 1.0000 - val_loss: 4.2658 - val_accuracy: 0.4620\n",
            "Epoch 65/100\n",
            "211/211 [==============================] - 1s 7ms/step - loss: 1.1418e-05 - accuracy: 1.0000 - val_loss: 4.2724 - val_accuracy: 0.4620\n",
            "Epoch 66/100\n",
            "211/211 [==============================] - 1s 7ms/step - loss: 1.1238e-05 - accuracy: 1.0000 - val_loss: 4.2781 - val_accuracy: 0.4620\n",
            "Epoch 67/100\n",
            "211/211 [==============================] - 1s 7ms/step - loss: 1.1072e-05 - accuracy: 1.0000 - val_loss: 4.2862 - val_accuracy: 0.4620\n",
            "Epoch 68/100\n",
            "211/211 [==============================] - 2s 8ms/step - loss: 1.0911e-05 - accuracy: 1.0000 - val_loss: 4.2942 - val_accuracy: 0.4609\n",
            "Epoch 69/100\n",
            "211/211 [==============================] - 2s 8ms/step - loss: 1.0769e-05 - accuracy: 1.0000 - val_loss: 4.2974 - val_accuracy: 0.4620\n",
            "Epoch 70/100\n",
            "211/211 [==============================] - 2s 8ms/step - loss: 1.0599e-05 - accuracy: 1.0000 - val_loss: 4.3057 - val_accuracy: 0.4620\n",
            "Epoch 71/100\n",
            "211/211 [==============================] - 2s 8ms/step - loss: 1.0483e-05 - accuracy: 1.0000 - val_loss: 4.3106 - val_accuracy: 0.4620\n",
            "Epoch 72/100\n",
            "211/211 [==============================] - 1s 7ms/step - loss: 1.0318e-05 - accuracy: 1.0000 - val_loss: 4.3143 - val_accuracy: 0.4620\n",
            "Epoch 73/100\n",
            "211/211 [==============================] - 2s 7ms/step - loss: 1.0194e-05 - accuracy: 1.0000 - val_loss: 4.3220 - val_accuracy: 0.4630\n",
            "Epoch 74/100\n",
            "211/211 [==============================] - 2s 7ms/step - loss: 1.0057e-05 - accuracy: 1.0000 - val_loss: 4.3267 - val_accuracy: 0.4630\n",
            "Epoch 75/100\n",
            "211/211 [==============================] - 2s 7ms/step - loss: 9.9215e-06 - accuracy: 1.0000 - val_loss: 4.3343 - val_accuracy: 0.4620\n",
            "Epoch 76/100\n",
            "211/211 [==============================] - 1s 7ms/step - loss: 9.8289e-06 - accuracy: 1.0000 - val_loss: 4.3366 - val_accuracy: 0.4630\n",
            "Epoch 77/100\n",
            "211/211 [==============================] - 2s 7ms/step - loss: 9.6903e-06 - accuracy: 1.0000 - val_loss: 4.3453 - val_accuracy: 0.4598\n",
            "Epoch 78/100\n",
            "211/211 [==============================] - 2s 8ms/step - loss: 9.5639e-06 - accuracy: 1.0000 - val_loss: 4.3495 - val_accuracy: 0.4630\n",
            "Epoch 79/100\n",
            "211/211 [==============================] - 2s 8ms/step - loss: 9.4524e-06 - accuracy: 1.0000 - val_loss: 4.3552 - val_accuracy: 0.4609\n",
            "Epoch 80/100\n",
            "211/211 [==============================] - 2s 8ms/step - loss: 9.3504e-06 - accuracy: 1.0000 - val_loss: 4.3586 - val_accuracy: 0.4620\n",
            "Epoch 81/100\n",
            "211/211 [==============================] - 2s 8ms/step - loss: 9.2318e-06 - accuracy: 1.0000 - val_loss: 4.3645 - val_accuracy: 0.4620\n",
            "Epoch 82/100\n",
            "211/211 [==============================] - 2s 7ms/step - loss: 9.1238e-06 - accuracy: 1.0000 - val_loss: 4.3689 - val_accuracy: 0.4630\n",
            "Epoch 83/100\n",
            "211/211 [==============================] - 1s 7ms/step - loss: 9.0133e-06 - accuracy: 1.0000 - val_loss: 4.3688 - val_accuracy: 0.4620\n",
            "Epoch 84/100\n",
            "211/211 [==============================] - 1s 7ms/step - loss: 8.9039e-06 - accuracy: 1.0000 - val_loss: 4.3811 - val_accuracy: 0.4620\n",
            "Epoch 85/100\n",
            "211/211 [==============================] - 2s 7ms/step - loss: 8.8296e-06 - accuracy: 1.0000 - val_loss: 4.3822 - val_accuracy: 0.4620\n",
            "Epoch 86/100\n",
            "211/211 [==============================] - 1s 7ms/step - loss: 8.7036e-06 - accuracy: 1.0000 - val_loss: 4.3890 - val_accuracy: 0.4620\n",
            "Epoch 87/100\n",
            "211/211 [==============================] - 2s 7ms/step - loss: 8.6193e-06 - accuracy: 1.0000 - val_loss: 4.3942 - val_accuracy: 0.4620\n",
            "Epoch 88/100\n",
            "211/211 [==============================] - 2s 8ms/step - loss: 8.5225e-06 - accuracy: 1.0000 - val_loss: 4.3999 - val_accuracy: 0.4609\n",
            "Epoch 89/100\n",
            "211/211 [==============================] - 2s 8ms/step - loss: 8.4243e-06 - accuracy: 1.0000 - val_loss: 4.4044 - val_accuracy: 0.4609\n",
            "Epoch 90/100\n",
            "211/211 [==============================] - 2s 8ms/step - loss: 8.3278e-06 - accuracy: 1.0000 - val_loss: 4.4067 - val_accuracy: 0.4620\n",
            "Epoch 91/100\n",
            "211/211 [==============================] - 2s 7ms/step - loss: 8.2520e-06 - accuracy: 1.0000 - val_loss: 4.4127 - val_accuracy: 0.4620\n",
            "Epoch 92/100\n",
            "211/211 [==============================] - 1s 7ms/step - loss: 8.1612e-06 - accuracy: 1.0000 - val_loss: 4.4154 - val_accuracy: 0.4620\n",
            "Epoch 93/100\n",
            "211/211 [==============================] - 2s 7ms/step - loss: 8.0940e-06 - accuracy: 1.0000 - val_loss: 4.4199 - val_accuracy: 0.4620\n",
            "Epoch 94/100\n",
            "211/211 [==============================] - 2s 7ms/step - loss: 8.0010e-06 - accuracy: 1.0000 - val_loss: 4.4214 - val_accuracy: 0.4630\n",
            "Epoch 95/100\n",
            "211/211 [==============================] - 1s 7ms/step - loss: 7.9188e-06 - accuracy: 1.0000 - val_loss: 4.4273 - val_accuracy: 0.4620\n",
            "Epoch 96/100\n",
            "211/211 [==============================] - 1s 7ms/step - loss: 7.8351e-06 - accuracy: 1.0000 - val_loss: 4.4293 - val_accuracy: 0.4641\n",
            "Epoch 97/100\n",
            "211/211 [==============================] - 2s 7ms/step - loss: 7.7651e-06 - accuracy: 1.0000 - val_loss: 4.4357 - val_accuracy: 0.4620\n",
            "Epoch 98/100\n",
            "211/211 [==============================] - 2s 8ms/step - loss: 7.6895e-06 - accuracy: 1.0000 - val_loss: 4.4396 - val_accuracy: 0.4620\n",
            "Epoch 99/100\n",
            "211/211 [==============================] - 2s 8ms/step - loss: 7.6063e-06 - accuracy: 1.0000 - val_loss: 4.4433 - val_accuracy: 0.4620\n",
            "Epoch 100/100\n",
            "211/211 [==============================] - 2s 8ms/step - loss: 7.5372e-06 - accuracy: 1.0000 - val_loss: 4.4489 - val_accuracy: 0.4609\n"
          ]
        }
      ]
    },
    {
      "cell_type": "code",
      "metadata": {
        "id": "7jZAgQbM4nmg",
        "colab": {
          "base_uri": "https://localhost:8080/",
          "height": 455
        },
        "outputId": "7ee7b596-30d9-404e-bd57-6340877576e4"
      },
      "source": [
        "#plot\n",
        "plot_acc(history)\n"
      ],
      "execution_count": 15,
      "outputs": [
        {
          "output_type": "display_data",
          "data": {
            "text/plain": [
              "<Figure size 640x480 with 1 Axes>"
            ],
            "image/png": "[encoded data removed]"
          },
          "metadata": {}
        }
      ]
    },
    {
      "cell_type": "code",
      "metadata": {
        "id": "0VB79BCx7tvg",
        "colab": {
          "base_uri": "https://localhost:8080/"
        },
        "outputId": "d066fce6-050d-45d3-e464-aeae91bc28ba"
      },
      "source": [
        "#get data first\n",
        "train_data, train_labels = get_train_data(flatten=True)\n",
        "test_data, test_labels = get_test_data(flatten=True)\n",
        "\n",
        "train_data = train_data.reshape([-1, 64, 64, 3])\n",
        "test_data = test_data.reshape([-1, 64, 64, 3])\n",
        "\n",
        "train_labels = label_to_numpy(train_labels)\n",
        "test_labels = label_to_numpy(test_labels)\n",
        "\n",
        "\n",
        "transfer = TransferClassifier(name = 'VGG16')\n",
        "transfer.fit(train_data, train_labels, epochs = 10, validation_data = (test_data, test_labels), shuffle = True, callbacks = [monitor])\n"
      ],
      "execution_count": 16,
      "outputs": [
        {
          "output_type": "stream",
          "name": "stdout",
          "text": [
            "Downloading data from https://storage.googleapis.com/tensorflow/keras-applications/vgg16/vgg16_weights_tf_dim_ordering_tf_kernels_notop.h5\n",
            "58889256/58889256 [==============================] - 1s 0us/step\n"
          ]
        },
        {
          "output_type": "stream",
          "name": "stderr",
          "text": [
            "WARNING:absl:`lr` is deprecated in Keras optimizer, please use `learning_rate` or use the legacy optimizer, e.g.,tf.keras.optimizers.legacy.SGD.\n"
          ]
        },
        {
          "output_type": "stream",
          "name": "stdout",
          "text": [
            "Epoch 1/10\n",
            "211/211 [==============================] - 17s 58ms/step - loss: 1.3935 - accuracy: 0.2501 - val_loss: 1.3882 - val_accuracy: 0.2500\n",
            "Epoch 2/10\n",
            "211/211 [==============================] - 10s 50ms/step - loss: 1.3884 - accuracy: 0.2467 - val_loss: 1.3880 - val_accuracy: 0.2500\n",
            "Epoch 3/10\n",
            "211/211 [==============================] - 10s 50ms/step - loss: 1.3881 - accuracy: 0.2534 - val_loss: 1.3896 - val_accuracy: 0.2500\n",
            "Epoch 4/10\n",
            "211/211 [==============================] - 11s 51ms/step - loss: 1.3886 - accuracy: 0.2384 - val_loss: 1.3869 - val_accuracy: 0.2500\n",
            "Epoch 5/10\n",
            "211/211 [==============================] - 10s 50ms/step - loss: 1.3877 - accuracy: 0.2461 - val_loss: 1.3886 - val_accuracy: 0.2500\n",
            "Epoch 6/10\n",
            "211/211 [==============================] - 10s 50ms/step - loss: 1.3884 - accuracy: 0.2375 - val_loss: 1.3874 - val_accuracy: 0.2500\n",
            "Epoch 7/10\n",
            "211/211 [==============================] - 11s 50ms/step - loss: 1.3883 - accuracy: 0.2458 - val_loss: 1.3871 - val_accuracy: 0.2500\n",
            "Epoch 8/10\n",
            "211/211 [==============================] - 11s 51ms/step - loss: 1.3876 - accuracy: 0.2512 - val_loss: 1.3865 - val_accuracy: 0.2500\n",
            "Epoch 9/10\n",
            "211/211 [==============================] - 11s 50ms/step - loss: 1.3873 - accuracy: 0.2448 - val_loss: 1.3896 - val_accuracy: 0.2500\n",
            "Epoch 10/10\n",
            "211/211 [==============================] - 11s 50ms/step - loss: 1.3879 - accuracy: 0.2443 - val_loss: 1.3872 - val_accuracy: 0.2500\n"
          ]
        },
        {
          "output_type": "execute_result",
          "data": {
            "text/plain": [
              "<keras.callbacks.History at 0x7b261c6ffca0>"
            ]
          },
          "metadata": {},
          "execution_count": 16
        }
      ]
    },
    {
      "cell_type": "code",
      "metadata": {
        "id": "ODm9HXoY84zC",
        "colab": {
          "base_uri": "https://localhost:8080/",
          "height": 455
        },
        "outputId": "90f2ec91-4e3a-4ef8-e09f-342ce73481f4"
      },
      "source": [
        "plot_acc(transfer.history)"
      ],
      "execution_count": null,
      "outputs": [
        {
          "output_type": "display_data",
          "data": {
            "text/plain": [
              "<Figure size 640x480 with 1 Axes>"
            ],
            "image/png": "[encoded data removed]"
          },
          "metadata": {}
        }
      ]
    },
    {
      "cell_type": "code",
      "metadata": {
        "id": "bLIe66rQJTua"
      },
      "source": [
        "from tensorflow.keras.applications.vgg16 import VGG16"
      ],
      "execution_count": null,
      "outputs": []
    },
    {
      "cell_type": "code",
      "metadata": {
        "id": "fvIzSJ6_FONj"
      },
      "source": [
        "# load the vgg network that is an 'expert' at 'imagenet'\n",
        "vgg_expert = VGG16(weights = 'imagenet', include_top = False, input_shape = (64, 64, 3))"
      ],
      "execution_count": null,
      "outputs": []
    },
    {
      "cell_type": "code",
      "metadata": {
        "id": "EMzqTaE7F25Q"
      },
      "source": [
        "vgg_model = Sequential()\n",
        "vgg_model.add(vgg_expert)"
      ],
      "execution_count": null,
      "outputs": []
    },
    {
      "cell_type": "code",
      "metadata": {
        "id": "VpDt946zGhCZ"
      },
      "source": [
        "# add the extra layers here\n",
        "vgg_model = Sequential()\n",
        "vgg_model.add(GlobalAveragePooling2D())\n",
        "vgg_model.add(Dense(1024, activation = 'relu'))\n",
        "vgg_model.add(Dropout(0.3))\n",
        "vgg_model.add(Dense(512, activation = 'relu'))\n",
        "vgg_model.add(Dropout(0.3))\n",
        "vgg_model.add(Dense(4, activation = 'sigmoid'))\n",
        "\n"
      ],
      "execution_count": null,
      "outputs": []
    },
    {
      "cell_type": "code",
      "metadata": {
        "id": "8SDKzK8eGxIM",
        "colab": {
          "base_uri": "https://localhost:8080/"
        },
        "outputId": "1d08ea90-0cef-403d-bc78-23214bd3a2c0"
      },
      "source": [
        "# compile model\n",
        "vgg_model.compile(loss = 'categorical_crossentropy', optimizer = optimizers.SGD(lr = 1e-4, momentum = 0.95), metrics = ['accuracy'])"
      ],
      "execution_count": null,
      "outputs": [
        {
          "output_type": "stream",
          "name": "stderr",
          "text": [
            "WARNING:absl:`lr` is deprecated in Keras optimizer, please use `learning_rate` or use the legacy optimizer, e.g.,tf.keras.optimizers.legacy.SGD.\n"
          ]
        }
      ]
    },
    {
      "cell_type": "code",
      "metadata": {
        "id": "JRpKBNUwHqEH",
        "colab": {
          "base_uri": "https://localhost:8080/"
        },
        "outputId": "6a017035-fca1-49d8-aa34-fd658db67c73"
      },
      "source": [
        "#fit model\n",
        "vgg_model.fit(train_data, train_labels, epochs = 20, validation_data = (test_data, test_labels), shuffle = True, callbacks = [monitor])\n"
      ],
      "execution_count": null,
      "outputs": [
        {
          "output_type": "stream",
          "name": "stdout",
          "text": [
            "Epoch 1/20\n",
            "211/211 [==============================] - 3s 8ms/step - loss: 1.3875 - accuracy: 0.2589 - val_loss: 1.3896 - val_accuracy: 0.2500\n",
            "Epoch 2/20\n",
            "211/211 [==============================] - 1s 6ms/step - loss: 1.3895 - accuracy: 0.2448 - val_loss: 1.3861 - val_accuracy: 0.3957\n",
            "Epoch 3/20\n",
            "211/211 [==============================] - 1s 6ms/step - loss: 1.3881 - accuracy: 0.2469 - val_loss: 1.3851 - val_accuracy: 0.2500\n",
            "Epoch 4/20\n",
            "211/211 [==============================] - 1s 5ms/step - loss: 1.3876 - accuracy: 0.2497 - val_loss: 1.3865 - val_accuracy: 0.2685\n",
            "Epoch 5/20\n",
            "211/211 [==============================] - 1s 4ms/step - loss: 1.3878 - accuracy: 0.2528 - val_loss: 1.3857 - val_accuracy: 0.2500\n",
            "Epoch 6/20\n",
            "211/211 [==============================] - 1s 4ms/step - loss: 1.3867 - accuracy: 0.2615 - val_loss: 1.3869 - val_accuracy: 0.3402\n",
            "Epoch 7/20\n",
            "211/211 [==============================] - 1s 4ms/step - loss: 1.3876 - accuracy: 0.2595 - val_loss: 1.3854 - val_accuracy: 0.2435\n",
            "Epoch 8/20\n",
            "211/211 [==============================] - 1s 5ms/step - loss: 1.3876 - accuracy: 0.2554 - val_loss: 1.3845 - val_accuracy: 0.2500\n",
            "Epoch 9/20\n",
            "211/211 [==============================] - 1s 5ms/step - loss: 1.3878 - accuracy: 0.2463 - val_loss: 1.3829 - val_accuracy: 0.2500\n",
            "Epoch 10/20\n",
            "211/211 [==============================] - 1s 5ms/step - loss: 1.3876 - accuracy: 0.2528 - val_loss: 1.3842 - val_accuracy: 0.2500\n",
            "Epoch 11/20\n",
            "211/211 [==============================] - 1s 4ms/step - loss: 1.3863 - accuracy: 0.2646 - val_loss: 1.3825 - val_accuracy: 0.2250\n",
            "Epoch 12/20\n",
            "211/211 [==============================] - 1s 5ms/step - loss: 1.3857 - accuracy: 0.2582 - val_loss: 1.3799 - val_accuracy: 0.2424\n",
            "Epoch 13/20\n",
            "211/211 [==============================] - 1s 5ms/step - loss: 1.3873 - accuracy: 0.2521 - val_loss: 1.3798 - val_accuracy: 0.4000\n",
            "Epoch 14/20\n",
            "211/211 [==============================] - 1s 6ms/step - loss: 1.3866 - accuracy: 0.2598 - val_loss: 1.3818 - val_accuracy: 0.2554\n",
            "Epoch 15/20\n",
            "211/211 [==============================] - 1s 6ms/step - loss: 1.3859 - accuracy: 0.2696 - val_loss: 1.3797 - val_accuracy: 0.2500\n",
            "Epoch 16/20\n",
            "211/211 [==============================] - 1s 7ms/step - loss: 1.3862 - accuracy: 0.2548 - val_loss: 1.3767 - val_accuracy: 0.2554\n",
            "Epoch 17/20\n",
            "211/211 [==============================] - 1s 6ms/step - loss: 1.3842 - accuracy: 0.2629 - val_loss: 1.3743 - val_accuracy: 0.2348\n",
            "Epoch 18/20\n",
            "211/211 [==============================] - 1s 5ms/step - loss: 1.3861 - accuracy: 0.2549 - val_loss: 1.3741 - val_accuracy: 0.3207\n",
            "Epoch 19/20\n",
            "211/211 [==============================] - 1s 5ms/step - loss: 1.3853 - accuracy: 0.2620 - val_loss: 1.3744 - val_accuracy: 0.2522\n",
            "Epoch 20/20\n",
            "211/211 [==============================] - 1s 4ms/step - loss: 1.3843 - accuracy: 0.2689 - val_loss: 1.3745 - val_accuracy: 0.2446\n"
          ]
        },
        {
          "output_type": "execute_result",
          "data": {
            "text/plain": [
              "<keras.callbacks.History at 0x7feca9b5bd60>"
            ]
          },
          "metadata": {},
          "execution_count": 33
        }
      ]
    },
    {
      "cell_type": "code",
      "metadata": {
        "id": "-gpwNg62GGJs",
        "colab": {
          "base_uri": "https://localhost:8080/",
          "height": 455
        },
        "outputId": "5bb89863-b039-4b0c-ff32-96ffebfa6248"
      },
      "source": [
        "\n",
        "plot_acc(vgg_model.history)"
      ],
      "execution_count": null,
      "outputs": [
        {
          "output_type": "display_data",
          "data": {
            "text/plain": [
              "<Figure size 640x480 with 1 Axes>"
            ],
            "image/png": "[encoded data removed]"
          },
          "metadata": {}
        }
      ]
    }
  ]
}